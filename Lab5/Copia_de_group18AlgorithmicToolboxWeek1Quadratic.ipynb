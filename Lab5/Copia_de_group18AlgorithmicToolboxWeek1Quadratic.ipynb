{
  "nbformat": 4,
  "nbformat_minor": 0,
  "metadata": {
    "kernelspec": {
      "display_name": "Python 3",
      "language": "python",
      "name": "python3"
    },
    "language_info": {
      "codemirror_mode": {
        "name": "ipython",
        "version": 3
      },
      "file_extension": ".py",
      "mimetype": "text/x-python",
      "name": "python",
      "nbconvert_exporter": "python",
      "pygments_lexer": "ipython3",
      "version": "3.5.2"
    },
    "colab": {
      "provenance": [],
      "collapsed_sections": [],
      "include_colab_link": true
    }
  },
  "cells": [
    {
      "cell_type": "markdown",
      "metadata": {
        "id": "view-in-github",
        "colab_type": "text"
      },
      "source": [
        "<a href=\"https://colab.research.google.com/github/gruizo/MetNumUN2022II/blob/main/Lab5/Copia_de_group18AlgorithmicToolboxWeek1Quadratic.ipynb\" target=\"_parent\"><img src=\"https://colab.research.google.com/assets/colab-badge.svg\" alt=\"Open In Colab\"/></a>"
      ]
    },
    {
      "cell_type": "markdown",
      "metadata": {
        "id": "R1JjZ592UF-K"
      },
      "source": [
        "## Quadratic equation  $a x^2 + b x + c = 0$\n",
        "\n",
        "$$ x_1,x_2 = \\frac{-b \\pm \\sqrt{b^2-4ac}}{2a}$$\n",
        "\n",
        "Are the same root (zeros) of \n",
        "\n",
        "$$x^2 + \\frac{b}{a} x + \\frac{c}{c} = 0$$"
      ]
    },
    {
      "cell_type": "code",
      "metadata": {
        "colab": {
          "base_uri": "https://localhost:8080/",
          "height": 265
        },
        "id": "SxD-No_oUDzB",
        "outputId": "06eadc07-aa00-4624-9ff3-ae5b2ce5f468"
      },
      "source": [
        "import numpy as np\n",
        "import matplotlib.pyplot as plt\n",
        "\n",
        "def quadratic(a,b,c,x):\n",
        "    return a*x**2+b*x+c\n",
        "\n",
        "def quadraticeqiv(a,b,c,x):\n",
        "    return x**2+(b/a)*x+(c/a)\n",
        "\n",
        "# (2x-1) (x+2) = 2x**2 +3x -2 =0;  x_1 = 1/2, x_2 =-2\n",
        "# Equivalent x**2 +3/2x -1 = 0 \n",
        "\n",
        "x = np.arange(-3.5, 2, 0.001)\n",
        "z = np.zeros(len(x))\n",
        "y = quadratic(2,3,-2,x)\n",
        "ynew = quadraticeqiv(2,3,-2,x)\n",
        "plt.plot(x, y, x, ynew, x,z)\n",
        "plt.show()"
      ],
      "execution_count": 86,
      "outputs": [
        {
          "output_type": "display_data",
          "data": {
            "text/plain": [
              "<Figure size 432x288 with 1 Axes>"
            ],
            "image/png": "[encoded data removed]"
          },
          "metadata": {
            "needs_background": "light"
          }
        }
      ]
    },
    {
      "cell_type": "markdown",
      "metadata": {
        "id": "5Mj2AvtnTyys"
      },
      "source": [
        "## Solve a quadratic equation, $x^2 + b x + c = 0$.\n",
        "\n",
        "\n",
        "Write a function which receives $b$ and $c$, the coefficients of a monic quadratic polynomial, $x^2 + b x + c$, and returns the pair of its roots. Your function should always return two values, even if quadratic has a double root.\n",
        "\n",
        "For example, given a quadratic $x^2 - 2x + 1$, your function should return a pair of $(1, 1)$. Of course, in floating point, your answers may differ from an exact unity.\n",
        "\n",
        "Your function also must correctly handle complex roots (to this end, you might need the `cmath` module from the standard library)."
      ]
    },
    {
      "cell_type": "code",
      "metadata": {
        "id": "cC1VlR0iTyAM"
      },
      "source": [
        "import math\n",
        "def solve_quad(b, c):\n",
        "    \"\"\"Solve a quadratic equation, x**2 + bx + c = 0.\n",
        "    \n",
        "    Parameters\n",
        "    ----------\n",
        "    b, c : float\n",
        "       Coefficients\n",
        "       \n",
        "    Returns\n",
        "    -------\n",
        "    x1, x2 : float or complex\n",
        "       Roots.  \"\"\"\n",
        "    \n",
        "    # ... enter your code here ...\n",
        "  \n",
        "    discriminante = ((b**2)-(4*c))\n",
        "    if discriminante == b**2:\n",
        "      x1 = -b\n",
        "      x2 = c/x1\n",
        "    elif discriminante < 0:\n",
        "      x1 = complex((-b/2), (math.sqrt(abs(discriminante))/2))\n",
        "      x2 = complex((-b/2), (-math.sqrt(abs(discriminante))/2))\n",
        "    else:\n",
        "      x1 = (-b + (math.sqrt(discriminante)))/2\n",
        "      x2 = (-b - (math.sqrt(discriminante)))/2\n",
        "      \n",
        "    return x1, x2"
      ],
      "execution_count": 87,
      "outputs": []
    },
    {
      "cell_type": "markdown",
      "metadata": {
        "id": "DtLraQJFVwpc"
      },
      "source": [
        "Test the your function on several examples against a calculation by hand. Once you're sure that your function works, try these five test cases below. \n",
        "\n",
        "Note that the last two test cases are special: they test whether your function handles extreme cases where a too simple approach is prone to a catastrophic cancellation. Make sure your function passes all five tests.\n",
        "\n",
        "This exercise is graded, each test case contributes a 20% of the grade"
      ]
    },
    {
      "cell_type": "code",
      "metadata": {
        "id": "HuWJU41fV1Ny"
      },
      "source": [
        "from numpy import allclose"
      ],
      "execution_count": 88,
      "outputs": []
    },
    {
      "cell_type": "code",
      "metadata": {
        "id": "G82jYtUyV13S"
      },
      "source": [
        "variants = [{'b': 4.0, 'c': 3.0},\n",
        "            {'b': 2.0, 'c': 1.0},\n",
        "            {'b': 0.5, 'c': 4.0},\n",
        "            {'b': 1e10, 'c': 3.0},\n",
        "            {'b': -1e10, 'c': 4.0},]"
      ],
      "execution_count": 89,
      "outputs": []
    },
    {
      "cell_type": "code",
      "metadata": {
        "colab": {
          "base_uri": "https://localhost:8080/"
        },
        "id": "2EzkqR_QV36D",
        "outputId": "1c621da6-e2d4-4021-888c-67f8f409ca18"
      },
      "source": [
        "for var in variants:\n",
        "    x1, x2 = solve_quad(**var)\n",
        "    print(allclose(x1*x2, var['c']))"
      ],
      "execution_count": 90,
      "outputs": [
        {
          "output_type": "stream",
          "name": "stdout",
          "text": [
            "True\n",
            "True\n",
            "True\n",
            "True\n",
            "True\n"
          ]
        }
      ]
    },
    {
      "cell_type": "code",
      "metadata": {
        "colab": {
          "base_uri": "https://localhost:8080/"
        },
        "id": "8HLE3pdnWG_z",
        "outputId": "abace773-8831-4f14-df23-2b89120d460b"
      },
      "source": [
        "for var in variants:\n",
        "    x1, x2 = solve_quad(**var)\n",
        "    print(\"solve_quad(\"+str(var['b'])+\",\"+str(var['c'])+\")\",solve_quad(**var) )"
      ],
      "execution_count": 91,
      "outputs": [
        {
          "output_type": "stream",
          "name": "stdout",
          "text": [
            "solve_quad(4.0,3.0) (-1.0, -3.0)\n",
            "solve_quad(2.0,1.0) (-1.0, -1.0)\n",
            "solve_quad(0.5,4.0) ((-0.25+1.984313483298443j), (-0.25-1.984313483298443j))\n",
            "solve_quad(10000000000.0,3.0) (-10000000000.0, -3e-10)\n",
            "solve_quad(-10000000000.0,4.0) (10000000000.0, 4e-10)\n"
          ]
        }
      ]
    },
    {
      "cell_type": "markdown",
      "metadata": {
        "id": "33dZJJaPgapL"
      },
      "source": [
        "## Analytic solutions with sympy solveset."
      ]
    },
    {
      "cell_type": "code",
      "metadata": {
        "colab": {
          "base_uri": "https://localhost:8080/",
          "height": 37
        },
        "id": "hDNLnEhceHJU",
        "outputId": "592fe1a3-167c-4d92-9a95-f81edc3e85c6"
      },
      "source": [
        "from sympy import Symbol, solveset, Eq, Rational\n",
        "x = Symbol('x')\n",
        "solveset(Eq(x**2 + 4*x + 3, 0), x)"
      ],
      "execution_count": 92,
      "outputs": [
        {
          "output_type": "execute_result",
          "data": {
            "text/plain": [
              "FiniteSet(-3, -1)"
            ],
            "text/latex": "$\\displaystyle \\left\\{-3, -1\\right\\}$"
          },
          "metadata": {},
          "execution_count": 92
        }
      ]
    },
    {
      "cell_type": "code",
      "metadata": {
        "colab": {
          "base_uri": "https://localhost:8080/",
          "height": 37
        },
        "id": "fsR9jpplfPqb",
        "outputId": "87d3086e-0950-4859-930c-f2a18201e500"
      },
      "source": [
        "solveset(Eq(x**2 + 2*x + 1, 0), x)"
      ],
      "execution_count": 93,
      "outputs": [
        {
          "output_type": "execute_result",
          "data": {
            "text/plain": [
              "FiniteSet(-1)"
            ],
            "text/latex": "$\\displaystyle \\left\\{-1\\right\\}$"
          },
          "metadata": {},
          "execution_count": 93
        }
      ]
    },
    {
      "cell_type": "code",
      "metadata": {
        "colab": {
          "base_uri": "https://localhost:8080/",
          "height": 68
        },
        "id": "owasE6zrgBLc",
        "outputId": "8f8ba989-5ef5-4b9e-87c2-e07ff9912aa5"
      },
      "source": [
        "solveset(Eq(x**2 + Rational(1,2)*x + 1, 0), x)"
      ],
      "execution_count": 94,
      "outputs": [
        {
          "output_type": "execute_result",
          "data": {
            "text/plain": [
              "FiniteSet(-1/4 - sqrt(15)*I/4, -1/4 + sqrt(15)*I/4)"
            ],
            "text/latex": "$\\displaystyle \\left\\{- \\frac{1}{4} - \\frac{\\sqrt{15} i}{4}, - \\frac{1}{4} + \\frac{\\sqrt{15} i}{4}\\right\\}$"
          },
          "metadata": {},
          "execution_count": 94
        }
      ]
    },
    {
      "cell_type": "code",
      "metadata": {
        "colab": {
          "base_uri": "https://localhost:8080/",
          "height": 47
        },
        "id": "rOagaA89e1SE",
        "outputId": "59404c01-2015-4378-f7d8-1cbb21391e44"
      },
      "source": [
        "solveset(Eq(x**2 + 10000000000*x + 3, 0), x)"
      ],
      "execution_count": 95,
      "outputs": [
        {
          "output_type": "execute_result",
          "data": {
            "text/plain": [
              "FiniteSet(-5000000000 + sqrt(24999999999999999997), -5000000000 - sqrt(24999999999999999997))"
            ],
            "text/latex": "$\\displaystyle \\left\\{-5000000000 - \\sqrt{24999999999999999997}, -5000000000 + \\sqrt{24999999999999999997}\\right\\}$"
          },
          "metadata": {},
          "execution_count": 95
        }
      ]
    },
    {
      "cell_type": "code",
      "metadata": {
        "colab": {
          "base_uri": "https://localhost:8080/",
          "height": 47
        },
        "id": "QROcdwRJexu7",
        "outputId": "65bc0fc9-39cd-4f41-9e58-0a8325fdc0b0"
      },
      "source": [
        "solveset(Eq(x**2 - 10000000000*x + 4, 0), x)"
      ],
      "execution_count": 96,
      "outputs": [
        {
          "output_type": "execute_result",
          "data": {
            "text/plain": [
              "FiniteSet(5000000000 - 2*sqrt(6249999999999999999), 5000000000 + 2*sqrt(6249999999999999999))"
            ],
            "text/latex": "$\\displaystyle \\left\\{5000000000 - 2 \\sqrt{6249999999999999999}, 5000000000 + 2 \\sqrt{6249999999999999999}\\right\\}$"
          },
          "metadata": {},
          "execution_count": 96
        }
      ]
    },
    {
      "cell_type": "markdown",
      "metadata": {
        "id": "zOj_mh6SrPkk"
      },
      "source": [
        "\n",
        "## Po-Shen Loh method to solve the quadratic equation $x^2 + b x + c = 0$ \n",
        "\n",
        "https://youtu.be/ZBalWWHYFQc\n",
        "\n",
        "![hoShenLo.png](https://raw.githubusercontent.com/gjhernandezp/NM/main/Computer%20Arithmetic/PhoShenLo.png)\n",
        "\n",
        "\n",
        "\n",
        "\n",
        "\n",
        "\n"
      ]
    },
    {
      "cell_type": "markdown",
      "metadata": {
        "id": "P2R4Kb2kaHzD"
      },
      "source": [
        "## Solve a quadratic equation, $x^2 + b x + c = 0$ using the Po-Shen Loh \n",
        "\n",
        "$$ x^2 + b x + c =  (x + x_1) (x  + x_2) = (x  - (-x_1)) (x  - (-x_2)) $$\n",
        "with\n",
        "$$ x_1 + x_2 = b$$\n",
        "and \n",
        "$$ x_1 * x_2 = c$$\n",
        "\n",
        "$$ x_1 = \\frac{b}{2} - u$$\n",
        "$$ x_2 = \\frac{b}{2} + u$$\n",
        "\n",
        "$$  c = x_1 x_2  = \\left (\\frac{b}{2}\\right)^2 -  u^2$$\n",
        "\n",
        "$$  u = \\sqrt {\\left(\\frac{b}{2}\\right)^2 -  c} $$\n",
        "\n",
        "Roots are \n",
        "\n",
        "$$ - x_1 = -\\left(\\frac{b}{2} - u\\right)$$\n",
        "$$ - x_2 = -\\left(\\frac{b}{2} + u\\right)$$\n",
        "\n",
        "\n",
        "\n",
        "\n",
        "Write a function which receives $b$ and $c$, the coefficients of a monic quadratic polynomial, $x^2 + b x + c$, and returns $u$ form the Po-Shen Loh method and the pair of its roots. Your function should always return three values, even if quadratic has a double root.\n",
        "\n",
        "For example, given a quadratic $x^2 - 2x + 1$, your function should return  $(0j, (1+0j), (1+0j))$. Of course, in floating point, your answers may differ from an exact unity.\n",
        "\n",
        "Your function also must correctly handle complex roots (to this end, you might need the `cmath` module from the standard library) and if $u$ can not be calculated because floting-point limitations should return $u$ equal to $-1$\n",
        "\n",
        "\n",
        "\n"
      ]
    },
    {
      "cell_type": "code",
      "metadata": {
        "id": "GxQXT4W5ldqs"
      },
      "source": [
        "import cmath\n",
        "\n",
        "def solve_quad_Po_Shen_Loh(b, c):\n",
        "\n",
        "   \"\"\"Solve a quadratic equation, x**2 + bx + c = 0.\n",
        "    \n",
        "    Parameters\n",
        "    ----------\n",
        "    b, c : float\n",
        "       Coefficients\n",
        "       \n",
        "    Returns\n",
        "    -------\n",
        "    u : The distance from b/2 to x and x2  and -1  if floting-point limitations\n",
        "    x1, x2 : float or complex roots.  \"\"\"\n",
        "    \n",
        "   # ... enter your code here ...\n",
        "   discriminante = ((b)**2-4*c)\n",
        "   proof = (b)**2\n",
        "   if (discriminante == proof):\n",
        "       u=-1\n",
        "       x1 = -b\n",
        "       x2 = c/x1\n",
        "   if (discriminante != proof) :\n",
        "       u = cmath.sqrt((b/2)**2 - c)\n",
        "       x1 = -((b/2) - u)\n",
        "       x2 = -((b/2) + u)\n",
        "\n",
        "\n",
        "  \n",
        "   \n",
        "  \n",
        "   return u,x1,x2\n"
      ],
      "execution_count": 210,
      "outputs": []
    },
    {
      "cell_type": "markdown",
      "metadata": {
        "id": "XA1yEMI-rz8I"
      },
      "source": [
        "Test the your function on several examples against a calculation by hand. Once you're sure that your function works, try these five test cases below. \n",
        "\n",
        "Note that the last two test cases are special: they test whether your function handles extreme cases where a too simple approach is prone to a catastrophic cancellation. Make sure your function passes all five tests.\n",
        "\n",
        "This exercise is graded, each test case contributes a 20% of the grade. "
      ]
    },
    {
      "cell_type": "code",
      "metadata": {
        "id": "rB96llJzm8zt"
      },
      "source": [
        "from numpy import allclose"
      ],
      "execution_count": 211,
      "outputs": []
    },
    {
      "cell_type": "code",
      "metadata": {
        "collapsed": true,
        "id": "A--UYkmlrz8J"
      },
      "source": [
        "variants = [{'b': 4.0, 'c': 3.0},\n",
        "            {'b': 2.0, 'c': 1.0},\n",
        "            {'b': 0.5, 'c': 4.0},\n",
        "            {'b': 1e10, 'c': 3.0},\n",
        "            {'b': -1e10, 'c': 4.0},]"
      ],
      "execution_count": 212,
      "outputs": []
    },
    {
      "cell_type": "code",
      "metadata": {
        "colab": {
          "base_uri": "https://localhost:8080/"
        },
        "id": "TpSM9Zh9rz8K",
        "outputId": "7e4e9d4a-c1de-4d3a-89e8-f6c3a96e5659"
      },
      "source": [
        "for var in variants:\n",
        "    u, x1, x2 = solve_quad_Po_Shen_Loh(**var)\n",
        "    print(allclose(x1*x2, var['c']))"
      ],
      "execution_count": 213,
      "outputs": [
        {
          "output_type": "stream",
          "name": "stdout",
          "text": [
            "True\n",
            "True\n",
            "True\n",
            "True\n",
            "True\n"
          ]
        }
      ]
    },
    {
      "cell_type": "code",
      "metadata": {
        "colab": {
          "base_uri": "https://localhost:8080/"
        },
        "id": "4Zh88PhlMfGC",
        "outputId": "c13de48b-6bbe-44ce-cc5d-6de879d9b063"
      },
      "source": [
        "for var in variants:\n",
        "    u, x1, x2 = solve_quad_Po_Shen_Loh(**var)\n",
        "    print(\"solve_quad_Po_Shen_Loh(\"+str(var['b'])+\",\"+str(var['c'])+\")\",solve_quad_Po_Shen_Loh(**var) )"
      ],
      "execution_count": 182,
      "outputs": [
        {
          "output_type": "stream",
          "name": "stdout",
          "text": [
            "solve_quad_Po_Shen_Loh(4.0,3.0) ((2+0j), (-0-0j), (-4-0j))\n",
            "solve_quad_Po_Shen_Loh(2.0,1.0) (0j, (-1-0j), (-1-0j))\n",
            "solve_quad_Po_Shen_Loh(0.5,4.0) (3.968626966596886j, (-0.25+3.968626966596886j), (-0.25-3.968626966596886j))\n",
            "solve_quad_Po_Shen_Loh(10000000000.0,3.0) ((10000000000+0j), (5000000000-0j), (-15000000000-0j))\n",
            "solve_quad_Po_Shen_Loh(-10000000000.0,4.0) ((10000000000+0j), (15000000000-0j), (-5000000000-0j))\n"
          ]
        }
      ]
    },
    {
      "cell_type": "markdown",
      "source": [
        "![imagen_2022-11-09_233126888.png](data:image/png;base64,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)"
      ],
      "metadata": {
        "id": "iV4lSw1YzpCE"
      }
    }
  ]
}